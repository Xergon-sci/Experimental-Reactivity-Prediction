{
 "metadata": {
  "language_info": {
   "codemirror_mode": {
    "name": "ipython",
    "version": 3
   },
   "file_extension": ".py",
   "mimetype": "text/x-python",
   "name": "python",
   "nbconvert_exporter": "python",
   "pygments_lexer": "ipython3",
   "version": "3.8.5-final"
  },
  "orig_nbformat": 2,
  "kernelspec": {
   "name": "python3",
   "display_name": "Python 3",
   "language": "python"
  }
 },
 "nbformat": 4,
 "nbformat_minor": 2,
 "cells": [
  {
   "cell_type": "code",
   "execution_count": 1,
   "metadata": {},
   "outputs": [],
   "source": [
    "import pandas as pd"
   ]
  },
  {
   "cell_type": "code",
   "execution_count": 29,
   "metadata": {},
   "outputs": [],
   "source": [
    "data = pd.read_json(r'C:\\Users\\Michiel Jacobs\\Research\\Master Thesis\\Experimental-Reactivity-Prediction\\data\\CNOS.json')\n",
    "data = data.transpose()"
   ]
  },
  {
   "cell_type": "code",
   "execution_count": 30,
   "metadata": {},
   "outputs": [
    {
     "output_type": "execute_result",
     "data": {
      "text/plain": [
       "              cid    jid                                 optimized_geometry  \\\n",
       "count       10695  10695                                              10695   \n",
       "unique      10695  10695                                              10695   \n",
       "top     114510349  10999  [[6, 6, 6, 6, 6, 8, 8, 6, 8, 8, 6, 8, 8, 1, 1,...   \n",
       "freq            1      1                                                  1   \n",
       "\n",
       "                                    self_consistent_field zero_point_energy  \\\n",
       "count                                               10695             10695   \n",
       "unique                                              10695             10511   \n",
       "top     [[neutraal, -724.187081571], [Energie_neutraal...          0.298281   \n",
       "freq                                                    1                 3   \n",
       "\n",
       "       thermal_correction_to_energy thermal_correction_to_enthalpy  \\\n",
       "count                         10695                          10695   \n",
       "unique                        10513                          10496   \n",
       "top                        0.347463                       0.233299   \n",
       "freq                              2                              2   \n",
       "\n",
       "       thermal_correction_to_gibbs_free_energy      homo      lumo  \\\n",
       "count                                    10695     10695     10695   \n",
       "unique                                   10496      5949      7679   \n",
       "top                                   0.283359  -0.21137  -0.00812   \n",
       "freq                                         3         7         6   \n",
       "\n",
       "                              natural_population_analysis  \\\n",
       "count                                               10695   \n",
       "unique                                              10695   \n",
       "top     [[-0.58005, -0.38908, -0.23081, -0.49905, 0.81...   \n",
       "freq                                                    1   \n",
       "\n",
       "                                           coulomb_matrix  \n",
       "count                                               10695  \n",
       "unique                                              10695  \n",
       "top     [[36.85810519942594, 23.513653151448125, 13.90...  \n",
       "freq                                                    1  "
      ],
      "text/html": "<div>\n<style scoped>\n    .dataframe tbody tr th:only-of-type {\n        vertical-align: middle;\n    }\n\n    .dataframe tbody tr th {\n        vertical-align: top;\n    }\n\n    .dataframe thead th {\n        text-align: right;\n    }\n</style>\n<table border=\"1\" class=\"dataframe\">\n  <thead>\n    <tr style=\"text-align: right;\">\n      <th></th>\n      <th>cid</th>\n      <th>jid</th>\n      <th>optimized_geometry</th>\n      <th>self_consistent_field</th>\n      <th>zero_point_energy</th>\n      <th>thermal_correction_to_energy</th>\n      <th>thermal_correction_to_enthalpy</th>\n      <th>thermal_correction_to_gibbs_free_energy</th>\n      <th>homo</th>\n      <th>lumo</th>\n      <th>natural_population_analysis</th>\n      <th>coulomb_matrix</th>\n    </tr>\n  </thead>\n  <tbody>\n    <tr>\n      <th>count</th>\n      <td>10695</td>\n      <td>10695</td>\n      <td>10695</td>\n      <td>10695</td>\n      <td>10695</td>\n      <td>10695</td>\n      <td>10695</td>\n      <td>10695</td>\n      <td>10695</td>\n      <td>10695</td>\n      <td>10695</td>\n      <td>10695</td>\n    </tr>\n    <tr>\n      <th>unique</th>\n      <td>10695</td>\n      <td>10695</td>\n      <td>10695</td>\n      <td>10695</td>\n      <td>10511</td>\n      <td>10513</td>\n      <td>10496</td>\n      <td>10496</td>\n      <td>5949</td>\n      <td>7679</td>\n      <td>10695</td>\n      <td>10695</td>\n    </tr>\n    <tr>\n      <th>top</th>\n      <td>114510349</td>\n      <td>10999</td>\n      <td>[[6, 6, 6, 6, 6, 8, 8, 6, 8, 8, 6, 8, 8, 1, 1,...</td>\n      <td>[[neutraal, -724.187081571], [Energie_neutraal...</td>\n      <td>0.298281</td>\n      <td>0.347463</td>\n      <td>0.233299</td>\n      <td>0.283359</td>\n      <td>-0.21137</td>\n      <td>-0.00812</td>\n      <td>[[-0.58005, -0.38908, -0.23081, -0.49905, 0.81...</td>\n      <td>[[36.85810519942594, 23.513653151448125, 13.90...</td>\n    </tr>\n    <tr>\n      <th>freq</th>\n      <td>1</td>\n      <td>1</td>\n      <td>1</td>\n      <td>1</td>\n      <td>3</td>\n      <td>2</td>\n      <td>2</td>\n      <td>3</td>\n      <td>7</td>\n      <td>6</td>\n      <td>1</td>\n      <td>1</td>\n    </tr>\n  </tbody>\n</table>\n</div>"
     },
     "metadata": {},
     "execution_count": 30
    }
   ],
   "source": [
    "data.describe()"
   ]
  },
  {
   "cell_type": "code",
   "execution_count": 31,
   "metadata": {},
   "outputs": [],
   "source": [
    "dataframes = []\n",
    "for i in range(11):\n",
    "    startline = i*1000\n",
    "    endline = ((i+1)*1000)-1\n",
    "    dataframes.append(data.iloc[startline:endline,:])"
   ]
  },
  {
   "cell_type": "code",
   "execution_count": 38,
   "metadata": {},
   "outputs": [
    {
     "output_type": "execute_result",
     "data": {
      "text/plain": [
       "                 cid    jid  \\\n",
       "3061045      3061045  10291   \n",
       "57785230    57785230  10292   \n",
       "79470893    79470893  10293   \n",
       "116141843  116141843  10294   \n",
       "79065791    79065791  10295   \n",
       "\n",
       "                                          optimized_geometry  \\\n",
       "3061045    [[6, 6, 6, 6, 6, 6, 6, 7, 6, 6, 6, 6, 6, 6, 6,...   \n",
       "57785230   [[6, 6, 7, 8, 6, 6, 7, 6, 6, 6, 6, 6, 6, 6, 6,...   \n",
       "79470893   [[6, 6, 6, 6, 6, 7, 6, 6, 6, 8, 6, 6, 6, 7, 6,...   \n",
       "116141843  [[6, 6, 6, 6, 8, 7, 6, 6, 8, 7, 6, 6, 6, 6, 6,...   \n",
       "79065791   [[6, 6, 6, 6, 6, 6, 6, 6, 6, 6, 6, 7, 6, 6, 7,...   \n",
       "\n",
       "                                       self_consistent_field  \\\n",
       "3061045    [[neutraal, -1238.10348333], [Energie_neutraal...   \n",
       "57785230   [[neutraal, -892.940891092], [Energie_neutraal...   \n",
       "79470893   [[neutraal, -1238.05374221], [Energie_neutraal...   \n",
       "116141843  [[neutraal, -886.622484208], [Energie_neutraal...   \n",
       "79065791   [[neutraal, -853.077152051], [Energie_neutraal...   \n",
       "\n",
       "          zero_point_energy thermal_correction_to_energy  \\\n",
       "3061045            0.267040                     0.283338   \n",
       "57785230           0.234013                     0.250743   \n",
       "79470893           0.334957                     0.355332   \n",
       "116141843          0.431802                     0.453431   \n",
       "79065791           0.504846                     0.526449   \n",
       "\n",
       "          thermal_correction_to_enthalpy  \\\n",
       "3061045                         0.284282   \n",
       "57785230                        0.251688   \n",
       "79470893                        0.356276   \n",
       "116141843                       0.454375   \n",
       "79065791                        0.527394   \n",
       "\n",
       "          thermal_correction_to_gibbs_free_energy      homo      lumo  \\\n",
       "3061045                                  0.221233  -0.21004  -0.03993   \n",
       "57785230                                 0.188612  -0.23243  -0.07042   \n",
       "79470893                                 0.284435  -0.21161  -0.06956   \n",
       "116141843                                0.379094  -0.23965   0.01660   \n",
       "79065791                                 0.454712  -0.20133   0.06977   \n",
       "\n",
       "                                 natural_population_analysis  \\\n",
       "3061045    [[-0.32987, -0.26304, -0.17711, -0.17697, -0.2...   \n",
       "57785230   [[-0.60538, 0.18800, -0.11426, -0.31310, 0.279...   \n",
       "79470893   [[-0.57275, -0.38036, -0.22708, -0.57459, -0.1...   \n",
       "116141843  [[-0.58733, -0.38536, -0.07697, 0.68278, -0.63...   \n",
       "79065791   [[-0.57812, -0.39849, 0.16441, -0.61087, 0.002...   \n",
       "\n",
       "                                              coulomb_matrix  \n",
       "3061045    [[36.85810519942594, 22.98120055801194, 15.299...  \n",
       "57785230   [[36.85810519942594, 24.10647807622716, 17.217...  \n",
       "79470893   [[36.85810519942594, 23.517202121308497, 13.96...  \n",
       "116141843  [[36.85810519942594, 23.564995797474978, 13.98...  \n",
       "79065791   [[36.85810519942594, 23.443019113157085, 13.51...  "
      ],
      "text/html": "<div>\n<style scoped>\n    .dataframe tbody tr th:only-of-type {\n        vertical-align: middle;\n    }\n\n    .dataframe tbody tr th {\n        vertical-align: top;\n    }\n\n    .dataframe thead th {\n        text-align: right;\n    }\n</style>\n<table border=\"1\" class=\"dataframe\">\n  <thead>\n    <tr style=\"text-align: right;\">\n      <th></th>\n      <th>cid</th>\n      <th>jid</th>\n      <th>optimized_geometry</th>\n      <th>self_consistent_field</th>\n      <th>zero_point_energy</th>\n      <th>thermal_correction_to_energy</th>\n      <th>thermal_correction_to_enthalpy</th>\n      <th>thermal_correction_to_gibbs_free_energy</th>\n      <th>homo</th>\n      <th>lumo</th>\n      <th>natural_population_analysis</th>\n      <th>coulomb_matrix</th>\n    </tr>\n  </thead>\n  <tbody>\n    <tr>\n      <th>3061045</th>\n      <td>3061045</td>\n      <td>10291</td>\n      <td>[[6, 6, 6, 6, 6, 6, 6, 7, 6, 6, 6, 6, 6, 6, 6,...</td>\n      <td>[[neutraal, -1238.10348333], [Energie_neutraal...</td>\n      <td>0.267040</td>\n      <td>0.283338</td>\n      <td>0.284282</td>\n      <td>0.221233</td>\n      <td>-0.21004</td>\n      <td>-0.03993</td>\n      <td>[[-0.32987, -0.26304, -0.17711, -0.17697, -0.2...</td>\n      <td>[[36.85810519942594, 22.98120055801194, 15.299...</td>\n    </tr>\n    <tr>\n      <th>57785230</th>\n      <td>57785230</td>\n      <td>10292</td>\n      <td>[[6, 6, 7, 8, 6, 6, 7, 6, 6, 6, 6, 6, 6, 6, 6,...</td>\n      <td>[[neutraal, -892.940891092], [Energie_neutraal...</td>\n      <td>0.234013</td>\n      <td>0.250743</td>\n      <td>0.251688</td>\n      <td>0.188612</td>\n      <td>-0.23243</td>\n      <td>-0.07042</td>\n      <td>[[-0.60538, 0.18800, -0.11426, -0.31310, 0.279...</td>\n      <td>[[36.85810519942594, 24.10647807622716, 17.217...</td>\n    </tr>\n    <tr>\n      <th>79470893</th>\n      <td>79470893</td>\n      <td>10293</td>\n      <td>[[6, 6, 6, 6, 6, 7, 6, 6, 6, 8, 6, 6, 6, 7, 6,...</td>\n      <td>[[neutraal, -1238.05374221], [Energie_neutraal...</td>\n      <td>0.334957</td>\n      <td>0.355332</td>\n      <td>0.356276</td>\n      <td>0.284435</td>\n      <td>-0.21161</td>\n      <td>-0.06956</td>\n      <td>[[-0.57275, -0.38036, -0.22708, -0.57459, -0.1...</td>\n      <td>[[36.85810519942594, 23.517202121308497, 13.96...</td>\n    </tr>\n    <tr>\n      <th>116141843</th>\n      <td>116141843</td>\n      <td>10294</td>\n      <td>[[6, 6, 6, 6, 8, 7, 6, 6, 8, 7, 6, 6, 6, 6, 6,...</td>\n      <td>[[neutraal, -886.622484208], [Energie_neutraal...</td>\n      <td>0.431802</td>\n      <td>0.453431</td>\n      <td>0.454375</td>\n      <td>0.379094</td>\n      <td>-0.23965</td>\n      <td>0.01660</td>\n      <td>[[-0.58733, -0.38536, -0.07697, 0.68278, -0.63...</td>\n      <td>[[36.85810519942594, 23.564995797474978, 13.98...</td>\n    </tr>\n    <tr>\n      <th>79065791</th>\n      <td>79065791</td>\n      <td>10295</td>\n      <td>[[6, 6, 6, 6, 6, 6, 6, 6, 6, 6, 6, 7, 6, 6, 7,...</td>\n      <td>[[neutraal, -853.077152051], [Energie_neutraal...</td>\n      <td>0.504846</td>\n      <td>0.526449</td>\n      <td>0.527394</td>\n      <td>0.454712</td>\n      <td>-0.20133</td>\n      <td>0.06977</td>\n      <td>[[-0.57812, -0.39849, 0.16441, -0.61087, 0.002...</td>\n      <td>[[36.85810519942594, 23.443019113157085, 13.51...</td>\n    </tr>\n  </tbody>\n</table>\n</div>"
     },
     "metadata": {},
     "execution_count": 38
    }
   ],
   "source": [
    "dataframes[10].head()"
   ]
  },
  {
   "cell_type": "code",
   "execution_count": 37,
   "metadata": {},
   "outputs": [],
   "source": [
    "import os\n",
    "PATH = r'C:\\Users\\Michiel Jacobs\\Research\\Master Thesis\\Experimental-Reactivity-Prediction\\data'\n",
    "for i, df in enumerate(dataframes):\n",
    "    df.to_json(os.path.join(PATH, 'CNOS_{}.json'.format(i)), orient='index', indent=2)"
   ]
  }
 ]
}