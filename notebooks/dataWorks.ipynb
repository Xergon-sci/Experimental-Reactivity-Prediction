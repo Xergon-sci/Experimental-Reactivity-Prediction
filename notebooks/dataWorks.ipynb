{
 "metadata": {
  "language_info": {
   "codemirror_mode": {
    "name": "ipython",
    "version": 3
   },
   "file_extension": ".py",
   "mimetype": "text/x-python",
   "name": "python",
   "nbconvert_exporter": "python",
   "pygments_lexer": "ipython3",
   "version": "3.8.5-final"
  },
  "orig_nbformat": 2,
  "kernelspec": {
   "name": "python3",
   "display_name": "Python 3.8.5 64-bit ('Master Thesis': conda)",
   "metadata": {
    "interpreter": {
     "hash": "3c2600dbb85c8b27e6e50cf4efdfd636baef57dd544fb148253cb17e6ab0fd06"
    }
   }
  }
 },
 "nbformat": 4,
 "nbformat_minor": 2,
 "cells": [
  {
   "cell_type": "code",
   "execution_count": 1,
   "metadata": {},
   "outputs": [],
   "source": [
    "import pandas as pd"
   ]
  },
  {
   "cell_type": "code",
   "execution_count": 31,
   "metadata": {},
   "outputs": [],
   "source": [
    "dataframes = []\n",
    "for i in range(11):\n",
    "    startline = i*1000\n",
    "    endline = ((i+1)*1000)-1\n",
    "    dataframes.append(data.iloc[startline:endline,:])"
   ]
  },
  {
   "cell_type": "code",
   "execution_count": 38,
   "metadata": {},
   "outputs": [
    {
     "output_type": "execute_result",
     "data": {
      "text/plain": [
       "                 cid    jid  \\\n",
       "3061045      3061045  10291   \n",
       "57785230    57785230  10292   \n",
       "79470893    79470893  10293   \n",
       "116141843  116141843  10294   \n",
       "79065791    79065791  10295   \n",
       "\n",
       "                                          optimized_geometry  \\\n",
       "3061045    [[6, 6, 6, 6, 6, 6, 6, 7, 6, 6, 6, 6, 6, 6, 6,...   \n",
       "57785230   [[6, 6, 7, 8, 6, 6, 7, 6, 6, 6, 6, 6, 6, 6, 6,...   \n",
       "79470893   [[6, 6, 6, 6, 6, 7, 6, 6, 6, 8, 6, 6, 6, 7, 6,...   \n",
       "116141843  [[6, 6, 6, 6, 8, 7, 6, 6, 8, 7, 6, 6, 6, 6, 6,...   \n",
       "79065791   [[6, 6, 6, 6, 6, 6, 6, 6, 6, 6, 6, 7, 6, 6, 7,...   \n",
       "\n",
       "                                       self_consistent_field  \\\n",
       "3061045    [[neutraal, -1238.10348333], [Energie_neutraal...   \n",
       "57785230   [[neutraal, -892.940891092], [Energie_neutraal...   \n",
       "79470893   [[neutraal, -1238.05374221], [Energie_neutraal...   \n",
       "116141843  [[neutraal, -886.622484208], [Energie_neutraal...   \n",
       "79065791   [[neutraal, -853.077152051], [Energie_neutraal...   \n",
       "\n",
       "          zero_point_energy thermal_correction_to_energy  \\\n",
       "3061045            0.267040                     0.283338   \n",
       "57785230           0.234013                     0.250743   \n",
       "79470893           0.334957                     0.355332   \n",
       "116141843          0.431802                     0.453431   \n",
       "79065791           0.504846                     0.526449   \n",
       "\n",
       "          thermal_correction_to_enthalpy  \\\n",
       "3061045                         0.284282   \n",
       "57785230                        0.251688   \n",
       "79470893                        0.356276   \n",
       "116141843                       0.454375   \n",
       "79065791                        0.527394   \n",
       "\n",
       "          thermal_correction_to_gibbs_free_energy      homo      lumo  \\\n",
       "3061045                                  0.221233  -0.21004  -0.03993   \n",
       "57785230                                 0.188612  -0.23243  -0.07042   \n",
       "79470893                                 0.284435  -0.21161  -0.06956   \n",
       "116141843                                0.379094  -0.23965   0.01660   \n",
       "79065791                                 0.454712  -0.20133   0.06977   \n",
       "\n",
       "                                 natural_population_analysis  \\\n",
       "3061045    [[-0.32987, -0.26304, -0.17711, -0.17697, -0.2...   \n",
       "57785230   [[-0.60538, 0.18800, -0.11426, -0.31310, 0.279...   \n",
       "79470893   [[-0.57275, -0.38036, -0.22708, -0.57459, -0.1...   \n",
       "116141843  [[-0.58733, -0.38536, -0.07697, 0.68278, -0.63...   \n",
       "79065791   [[-0.57812, -0.39849, 0.16441, -0.61087, 0.002...   \n",
       "\n",
       "                                              coulomb_matrix  \n",
       "3061045    [[36.85810519942594, 22.98120055801194, 15.299...  \n",
       "57785230   [[36.85810519942594, 24.10647807622716, 17.217...  \n",
       "79470893   [[36.85810519942594, 23.517202121308497, 13.96...  \n",
       "116141843  [[36.85810519942594, 23.564995797474978, 13.98...  \n",
       "79065791   [[36.85810519942594, 23.443019113157085, 13.51...  "
      ],
      "text/html": "<div>\n<style scoped>\n    .dataframe tbody tr th:only-of-type {\n        vertical-align: middle;\n    }\n\n    .dataframe tbody tr th {\n        vertical-align: top;\n    }\n\n    .dataframe thead th {\n        text-align: right;\n    }\n</style>\n<table border=\"1\" class=\"dataframe\">\n  <thead>\n    <tr style=\"text-align: right;\">\n      <th></th>\n      <th>cid</th>\n      <th>jid</th>\n      <th>optimized_geometry</th>\n      <th>self_consistent_field</th>\n      <th>zero_point_energy</th>\n      <th>thermal_correction_to_energy</th>\n      <th>thermal_correction_to_enthalpy</th>\n      <th>thermal_correction_to_gibbs_free_energy</th>\n      <th>homo</th>\n      <th>lumo</th>\n      <th>natural_population_analysis</th>\n      <th>coulomb_matrix</th>\n    </tr>\n  </thead>\n  <tbody>\n    <tr>\n      <th>3061045</th>\n      <td>3061045</td>\n      <td>10291</td>\n      <td>[[6, 6, 6, 6, 6, 6, 6, 7, 6, 6, 6, 6, 6, 6, 6,...</td>\n      <td>[[neutraal, -1238.10348333], [Energie_neutraal...</td>\n      <td>0.267040</td>\n      <td>0.283338</td>\n      <td>0.284282</td>\n      <td>0.221233</td>\n      <td>-0.21004</td>\n      <td>-0.03993</td>\n      <td>[[-0.32987, -0.26304, -0.17711, -0.17697, -0.2...</td>\n      <td>[[36.85810519942594, 22.98120055801194, 15.299...</td>\n    </tr>\n    <tr>\n      <th>57785230</th>\n      <td>57785230</td>\n      <td>10292</td>\n      <td>[[6, 6, 7, 8, 6, 6, 7, 6, 6, 6, 6, 6, 6, 6, 6,...</td>\n      <td>[[neutraal, -892.940891092], [Energie_neutraal...</td>\n      <td>0.234013</td>\n      <td>0.250743</td>\n      <td>0.251688</td>\n      <td>0.188612</td>\n      <td>-0.23243</td>\n      <td>-0.07042</td>\n      <td>[[-0.60538, 0.18800, -0.11426, -0.31310, 0.279...</td>\n      <td>[[36.85810519942594, 24.10647807622716, 17.217...</td>\n    </tr>\n    <tr>\n      <th>79470893</th>\n      <td>79470893</td>\n      <td>10293</td>\n      <td>[[6, 6, 6, 6, 6, 7, 6, 6, 6, 8, 6, 6, 6, 7, 6,...</td>\n      <td>[[neutraal, -1238.05374221], [Energie_neutraal...</td>\n      <td>0.334957</td>\n      <td>0.355332</td>\n      <td>0.356276</td>\n      <td>0.284435</td>\n      <td>-0.21161</td>\n      <td>-0.06956</td>\n      <td>[[-0.57275, -0.38036, -0.22708, -0.57459, -0.1...</td>\n      <td>[[36.85810519942594, 23.517202121308497, 13.96...</td>\n    </tr>\n    <tr>\n      <th>116141843</th>\n      <td>116141843</td>\n      <td>10294</td>\n      <td>[[6, 6, 6, 6, 8, 7, 6, 6, 8, 7, 6, 6, 6, 6, 6,...</td>\n      <td>[[neutraal, -886.622484208], [Energie_neutraal...</td>\n      <td>0.431802</td>\n      <td>0.453431</td>\n      <td>0.454375</td>\n      <td>0.379094</td>\n      <td>-0.23965</td>\n      <td>0.01660</td>\n      <td>[[-0.58733, -0.38536, -0.07697, 0.68278, -0.63...</td>\n      <td>[[36.85810519942594, 23.564995797474978, 13.98...</td>\n    </tr>\n    <tr>\n      <th>79065791</th>\n      <td>79065791</td>\n      <td>10295</td>\n      <td>[[6, 6, 6, 6, 6, 6, 6, 6, 6, 6, 6, 7, 6, 6, 7,...</td>\n      <td>[[neutraal, -853.077152051], [Energie_neutraal...</td>\n      <td>0.504846</td>\n      <td>0.526449</td>\n      <td>0.527394</td>\n      <td>0.454712</td>\n      <td>-0.20133</td>\n      <td>0.06977</td>\n      <td>[[-0.57812, -0.39849, 0.16441, -0.61087, 0.002...</td>\n      <td>[[36.85810519942594, 23.443019113157085, 13.51...</td>\n    </tr>\n  </tbody>\n</table>\n</div>"
     },
     "metadata": {},
     "execution_count": 38
    }
   ],
   "source": [
    "dataframes[10].head()"
   ]
  },
  {
   "cell_type": "code",
   "execution_count": 37,
   "metadata": {},
   "outputs": [],
   "source": [
    "import os\n",
    "PATH = r'C:\\Users\\Michiel Jacobs\\Research\\Master Thesis\\Experimental-Reactivity-Prediction\\data'\n",
    "for i, df in enumerate(dataframes):\n",
    "    df.to_json(os.path.join(PATH, 'CNOS_{}.json'.format(i)), orient='index', indent=2)"
   ]
  },
  {
   "cell_type": "code",
   "execution_count": 8,
   "metadata": {},
   "outputs": [],
   "source": [
    "import os\n",
    "import pandas as pd\n",
    "\n",
    "#PATH = os.path.dirname(os.path.abspath(__file__))\n",
    "PATH = r'C:\\Users\\Michiel Jacobs\\Research\\Master Thesis\\Experimental-Reactivity-Prediction\\notebooks'\n",
    "PATH = os.path.join(PATH, os.pardir, 'data')\n",
    "dataframes = []\n",
    "for file in os.listdir(PATH):\n",
    "    if file.endswith(\".json\"):\n",
    "        dataframes.append(pd.read_json(os.path.join(PATH, file)))"
   ]
  },
  {
   "cell_type": "code",
   "execution_count": 12,
   "metadata": {},
   "outputs": [
    {
     "output_type": "execute_result",
     "data": {
      "text/plain": [
       "                 cid jid                                 optimized_geometry  \\\n",
       "130652087  130652087   0  [[6, 6, 6, 6, 16, 6, 7, 7, 7, 6, 1, 1, 1, 1, 1...   \n",
       "129668047  129668047   1  [[6, 6, 6, 6, 6, 6, 16, 8, 8, 6, 1, 1, 1, 1, 1...   \n",
       "140994819  140994819   2  [[6, 6, 6, 6, 6, 6, 6, 6, 8, 8, 1, 1, 1, 1, 1,...   \n",
       "21721211    21721211   3  [[6, 6, 6, 8, 8, 6, 6, 6, 6, 6, 1, 1, 1, 1, 1,...   \n",
       "90704336    90704336   4  [[6, 6, 6, 6, 6, 6, 8, 8, 6, 8, 1, 1, 1, 1, 1,...   \n",
       "\n",
       "                                       self_consistent_field  \\\n",
       "130652087  [[neutraal, -795.211507962], [Energie_neutraal...   \n",
       "129668047  [[neutraal, -823.780548704], [Energie_neutraal...   \n",
       "140994819  [[neutraal, -464.935484889], [Energie_neutraal...   \n",
       "21721211   [[neutraal, -463.762585110], [Energie_neutraal...   \n",
       "90704336   [[neutraal, -502.065353250], [Energie_neutraal...   \n",
       "\n",
       "          zero_point_energy thermal_correction_to_energy  \\\n",
       "130652087          0.127017                     0.136940   \n",
       "129668047          0.205459                     0.217854   \n",
       "140994819          0.232716                     0.245301   \n",
       "21721211           0.210067                     0.222170   \n",
       "90704336           0.233129                     0.245709   \n",
       "\n",
       "          thermal_correction_to_enthalpy  \\\n",
       "130652087                       0.137884   \n",
       "129668047                       0.218799   \n",
       "140994819                       0.246246   \n",
       "21721211                        0.223114   \n",
       "90704336                        0.246653   \n",
       "\n",
       "          thermal_correction_to_gibbs_free_energy      homo      lumo  \\\n",
       "130652087                                0.090077  -0.22415  -0.01373   \n",
       "129668047                                0.165386  -0.25689  -0.01182   \n",
       "140994819                                0.193153  -0.24078   0.01578   \n",
       "21721211                                 0.169649  -0.23918   0.01441   \n",
       "90704336                                 0.195038  -0.25245   0.06906   \n",
       "\n",
       "                                 natural_population_analysis  \\\n",
       "130652087  [[-0.23022, -0.01421, -0.47001, -0.48076, 0.24...   \n",
       "129668047  [[-0.57906, -0.37233, -0.41330, -0.14949, -0.2...   \n",
       "140994819  [[-0.57823, -0.39724, 0.09904, -0.20924, -0.18...   \n",
       "21721211   [[-0.56822, -0.46850, 0.81575, -0.59983, -0.58...   \n",
       "90704336   [[-0.57774, -0.40498, 0.12954, -0.28690, -0.59...   \n",
       "\n",
       "                                              coulomb_matrix  \n",
       "130652087  [[36.8581051994, 29.8343857248, 13.4903033773,...  \n",
       "129668047  [[36.8581051994, 23.5131364662, 13.9599108795,...  \n",
       "140994819  [[36.8581051994, 23.5123297806, 13.9300213486,...  \n",
       "21721211   [[36.8581051994, 23.4191164529, 14.2747354076,...  \n",
       "90704336   [[36.8581051994, 23.5125051064, 13.969815003, ...  "
      ],
      "text/html": "<div>\n<style scoped>\n    .dataframe tbody tr th:only-of-type {\n        vertical-align: middle;\n    }\n\n    .dataframe tbody tr th {\n        vertical-align: top;\n    }\n\n    .dataframe thead th {\n        text-align: right;\n    }\n</style>\n<table border=\"1\" class=\"dataframe\">\n  <thead>\n    <tr style=\"text-align: right;\">\n      <th></th>\n      <th>cid</th>\n      <th>jid</th>\n      <th>optimized_geometry</th>\n      <th>self_consistent_field</th>\n      <th>zero_point_energy</th>\n      <th>thermal_correction_to_energy</th>\n      <th>thermal_correction_to_enthalpy</th>\n      <th>thermal_correction_to_gibbs_free_energy</th>\n      <th>homo</th>\n      <th>lumo</th>\n      <th>natural_population_analysis</th>\n      <th>coulomb_matrix</th>\n    </tr>\n  </thead>\n  <tbody>\n    <tr>\n      <th>130652087</th>\n      <td>130652087</td>\n      <td>0</td>\n      <td>[[6, 6, 6, 6, 16, 6, 7, 7, 7, 6, 1, 1, 1, 1, 1...</td>\n      <td>[[neutraal, -795.211507962], [Energie_neutraal...</td>\n      <td>0.127017</td>\n      <td>0.136940</td>\n      <td>0.137884</td>\n      <td>0.090077</td>\n      <td>-0.22415</td>\n      <td>-0.01373</td>\n      <td>[[-0.23022, -0.01421, -0.47001, -0.48076, 0.24...</td>\n      <td>[[36.8581051994, 29.8343857248, 13.4903033773,...</td>\n    </tr>\n    <tr>\n      <th>129668047</th>\n      <td>129668047</td>\n      <td>1</td>\n      <td>[[6, 6, 6, 6, 6, 6, 16, 8, 8, 6, 1, 1, 1, 1, 1...</td>\n      <td>[[neutraal, -823.780548704], [Energie_neutraal...</td>\n      <td>0.205459</td>\n      <td>0.217854</td>\n      <td>0.218799</td>\n      <td>0.165386</td>\n      <td>-0.25689</td>\n      <td>-0.01182</td>\n      <td>[[-0.57906, -0.37233, -0.41330, -0.14949, -0.2...</td>\n      <td>[[36.8581051994, 23.5131364662, 13.9599108795,...</td>\n    </tr>\n    <tr>\n      <th>140994819</th>\n      <td>140994819</td>\n      <td>2</td>\n      <td>[[6, 6, 6, 6, 6, 6, 6, 6, 8, 8, 1, 1, 1, 1, 1,...</td>\n      <td>[[neutraal, -464.935484889], [Energie_neutraal...</td>\n      <td>0.232716</td>\n      <td>0.245301</td>\n      <td>0.246246</td>\n      <td>0.193153</td>\n      <td>-0.24078</td>\n      <td>0.01578</td>\n      <td>[[-0.57823, -0.39724, 0.09904, -0.20924, -0.18...</td>\n      <td>[[36.8581051994, 23.5123297806, 13.9300213486,...</td>\n    </tr>\n    <tr>\n      <th>21721211</th>\n      <td>21721211</td>\n      <td>3</td>\n      <td>[[6, 6, 6, 8, 8, 6, 6, 6, 6, 6, 1, 1, 1, 1, 1,...</td>\n      <td>[[neutraal, -463.762585110], [Energie_neutraal...</td>\n      <td>0.210067</td>\n      <td>0.222170</td>\n      <td>0.223114</td>\n      <td>0.169649</td>\n      <td>-0.23918</td>\n      <td>0.01441</td>\n      <td>[[-0.56822, -0.46850, 0.81575, -0.59983, -0.58...</td>\n      <td>[[36.8581051994, 23.4191164529, 14.2747354076,...</td>\n    </tr>\n    <tr>\n      <th>90704336</th>\n      <td>90704336</td>\n      <td>4</td>\n      <td>[[6, 6, 6, 6, 6, 6, 8, 8, 6, 8, 1, 1, 1, 1, 1,...</td>\n      <td>[[neutraal, -502.065353250], [Energie_neutraal...</td>\n      <td>0.233129</td>\n      <td>0.245709</td>\n      <td>0.246653</td>\n      <td>0.195038</td>\n      <td>-0.25245</td>\n      <td>0.06906</td>\n      <td>[[-0.57774, -0.40498, 0.12954, -0.28690, -0.59...</td>\n      <td>[[36.8581051994, 23.5125051064, 13.969815003, ...</td>\n    </tr>\n  </tbody>\n</table>\n</div>"
     },
     "metadata": {},
     "execution_count": 12
    }
   ],
   "source": [
    "transp = []\n",
    "for df in dataframes:\n",
    "    transp.append(df.transpose())\n",
    "\n",
    "transp[0].head()"
   ]
  },
  {
   "cell_type": "code",
   "execution_count": 18,
   "metadata": {},
   "outputs": [
    {
     "output_type": "execute_result",
     "data": {
      "text/plain": [
       "        130652087 129668047  \\\n",
       "count          12        12   \n",
       "unique         12        12   \n",
       "top             0  0.217854   \n",
       "freq            1         1   \n",
       "\n",
       "                                                140994819 21721211  90704336   \\\n",
       "count                                                  12        12        12   \n",
       "unique                                                 12        12        12   \n",
       "top     [[36.8581051994, 23.5123297806, 13.9300213486,...  0.223114  0.233129   \n",
       "freq                                                    1         1         1   \n",
       "\n",
       "       66045681  129972225                                          20678039   \\\n",
       "count         12        12                                                 12   \n",
       "unique        12        12                                                 12   \n",
       "top      0.28415  -0.04133  [[-0.57713, -0.27127, -0.57354, 0.64805, -0.63...   \n",
       "freq           1         1                                                  1   \n",
       "\n",
       "        140544778                                          89041207   ...  \\\n",
       "count          12                                                 12  ...   \n",
       "unique         12                                                 12  ...   \n",
       "top     140544778  [[36.8581051994, 23.8034304274, 14.2517329287,...  ...   \n",
       "freq            1                                                  1  ...   \n",
       "\n",
       "       147387252 105434230                                          25093108   \\\n",
       "count         12        12                                                 12   \n",
       "unique        12        12                                                 12   \n",
       "top     -0.25489  -0.02655  [[36.8581051994, 25.7597071971, 15.0572416522,...   \n",
       "freq           1         1                                                  1   \n",
       "\n",
       "                                                87554375  117623527 60798696   \\\n",
       "count                                                  12        12        12   \n",
       "unique                                                 12        12        12   \n",
       "top     [[-0.64585, 0.24713, -0.18346, -0.57581, -0.43...  0.183644  -0.24323   \n",
       "freq                                                    1         1         1   \n",
       "\n",
       "                                                150207916  \\\n",
       "count                                                  12   \n",
       "unique                                                 12   \n",
       "top     [[6, 6, 6, 6, 6, 16, 6, 8, 7, 7, 7, 1, 1, 1, 1...   \n",
       "freq                                                    1   \n",
       "\n",
       "                                                69777095   \\\n",
       "count                                                  12   \n",
       "unique                                                 12   \n",
       "top     [[36.8581051994, 29.064348271, 14.338422402399...   \n",
       "freq                                                    1   \n",
       "\n",
       "                                                105429840  \\\n",
       "count                                                  12   \n",
       "unique                                                 12   \n",
       "top     [[36.8581051994, 23.4055489219, 14.3223716248,...   \n",
       "freq                                                    1   \n",
       "\n",
       "                                                67764881   \n",
       "count                                                  12  \n",
       "unique                                                 12  \n",
       "top     [[-0.58731, -0.17056, -0.52020, -0.19064, 0.11...  \n",
       "freq                                                    1  \n",
       "\n",
       "[4 rows x 999 columns]"
      ],
      "text/html": "<div>\n<style scoped>\n    .dataframe tbody tr th:only-of-type {\n        vertical-align: middle;\n    }\n\n    .dataframe tbody tr th {\n        vertical-align: top;\n    }\n\n    .dataframe thead th {\n        text-align: right;\n    }\n</style>\n<table border=\"1\" class=\"dataframe\">\n  <thead>\n    <tr style=\"text-align: right;\">\n      <th></th>\n      <th>130652087</th>\n      <th>129668047</th>\n      <th>140994819</th>\n      <th>21721211</th>\n      <th>90704336</th>\n      <th>66045681</th>\n      <th>129972225</th>\n      <th>20678039</th>\n      <th>140544778</th>\n      <th>89041207</th>\n      <th>...</th>\n      <th>147387252</th>\n      <th>105434230</th>\n      <th>25093108</th>\n      <th>87554375</th>\n      <th>117623527</th>\n      <th>60798696</th>\n      <th>150207916</th>\n      <th>69777095</th>\n      <th>105429840</th>\n      <th>67764881</th>\n    </tr>\n  </thead>\n  <tbody>\n    <tr>\n      <th>count</th>\n      <td>12</td>\n      <td>12</td>\n      <td>12</td>\n      <td>12</td>\n      <td>12</td>\n      <td>12</td>\n      <td>12</td>\n      <td>12</td>\n      <td>12</td>\n      <td>12</td>\n      <td>...</td>\n      <td>12</td>\n      <td>12</td>\n      <td>12</td>\n      <td>12</td>\n      <td>12</td>\n      <td>12</td>\n      <td>12</td>\n      <td>12</td>\n      <td>12</td>\n      <td>12</td>\n    </tr>\n    <tr>\n      <th>unique</th>\n      <td>12</td>\n      <td>12</td>\n      <td>12</td>\n      <td>12</td>\n      <td>12</td>\n      <td>12</td>\n      <td>12</td>\n      <td>12</td>\n      <td>12</td>\n      <td>12</td>\n      <td>...</td>\n      <td>12</td>\n      <td>12</td>\n      <td>12</td>\n      <td>12</td>\n      <td>12</td>\n      <td>12</td>\n      <td>12</td>\n      <td>12</td>\n      <td>12</td>\n      <td>12</td>\n    </tr>\n    <tr>\n      <th>top</th>\n      <td>0</td>\n      <td>0.217854</td>\n      <td>[[36.8581051994, 23.5123297806, 13.9300213486,...</td>\n      <td>0.223114</td>\n      <td>0.233129</td>\n      <td>0.28415</td>\n      <td>-0.04133</td>\n      <td>[[-0.57713, -0.27127, -0.57354, 0.64805, -0.63...</td>\n      <td>140544778</td>\n      <td>[[36.8581051994, 23.8034304274, 14.2517329287,...</td>\n      <td>...</td>\n      <td>-0.25489</td>\n      <td>-0.02655</td>\n      <td>[[36.8581051994, 25.7597071971, 15.0572416522,...</td>\n      <td>[[-0.64585, 0.24713, -0.18346, -0.57581, -0.43...</td>\n      <td>0.183644</td>\n      <td>-0.24323</td>\n      <td>[[6, 6, 6, 6, 6, 16, 6, 8, 7, 7, 7, 1, 1, 1, 1...</td>\n      <td>[[36.8581051994, 29.064348271, 14.338422402399...</td>\n      <td>[[36.8581051994, 23.4055489219, 14.3223716248,...</td>\n      <td>[[-0.58731, -0.17056, -0.52020, -0.19064, 0.11...</td>\n    </tr>\n    <tr>\n      <th>freq</th>\n      <td>1</td>\n      <td>1</td>\n      <td>1</td>\n      <td>1</td>\n      <td>1</td>\n      <td>1</td>\n      <td>1</td>\n      <td>1</td>\n      <td>1</td>\n      <td>1</td>\n      <td>...</td>\n      <td>1</td>\n      <td>1</td>\n      <td>1</td>\n      <td>1</td>\n      <td>1</td>\n      <td>1</td>\n      <td>1</td>\n      <td>1</td>\n      <td>1</td>\n      <td>1</td>\n    </tr>\n  </tbody>\n</table>\n<p>4 rows × 999 columns</p>\n</div>"
     },
     "metadata": {},
     "execution_count": 18
    }
   ],
   "source": [
    "dataframes[0].describe()"
   ]
  },
  {
   "cell_type": "code",
   "execution_count": 13,
   "metadata": {},
   "outputs": [],
   "source": [
    "data = pd.concat(transp)"
   ]
  },
  {
   "cell_type": "code",
   "execution_count": 16,
   "metadata": {},
   "outputs": [
    {
     "output_type": "execute_result",
     "data": {
      "text/plain": [
       "              cid    jid                                 optimized_geometry  \\\n",
       "count       10685  10685                                              10685   \n",
       "unique      10685  10685                                              10685   \n",
       "top     147145722      0  [[6, 7, 6, 6, 6, 8, 6, 6, 8, 6, 6, 6, 7, 6, 1,...   \n",
       "freq            1      1                                                  1   \n",
       "\n",
       "                                    self_consistent_field zero_point_energy  \\\n",
       "count                                               10685             10685   \n",
       "unique                                              10685             10501   \n",
       "top     [[neutraal, -653.020533830], [Energie_neutraal...          0.249167   \n",
       "freq                                                    1                 3   \n",
       "\n",
       "       thermal_correction_to_energy thermal_correction_to_enthalpy  \\\n",
       "count                         10685                          10685   \n",
       "unique                        10504                          10487   \n",
       "top                        0.218039                       0.219788   \n",
       "freq                              2                              2   \n",
       "\n",
       "       thermal_correction_to_gibbs_free_energy     homo      lumo  \\\n",
       "count                                    10685    10685     10685   \n",
       "unique                                   10486     5948      7675   \n",
       "top                                   0.209998  -0.2166  -0.00812   \n",
       "freq                                         3        7         6   \n",
       "\n",
       "                              natural_population_analysis  \\\n",
       "count                                               10685   \n",
       "unique                                              10685   \n",
       "top     [[-0.35224, -0.57247, -0.02819, -0.41619, -0.0...   \n",
       "freq                                                    1   \n",
       "\n",
       "                                           coulomb_matrix  \n",
       "count                                               10685  \n",
       "unique                                              10685  \n",
       "top     [[36.8581051994, 28.7555620234, 14.6630834634,...  \n",
       "freq                                                    1  "
      ],
      "text/html": "<div>\n<style scoped>\n    .dataframe tbody tr th:only-of-type {\n        vertical-align: middle;\n    }\n\n    .dataframe tbody tr th {\n        vertical-align: top;\n    }\n\n    .dataframe thead th {\n        text-align: right;\n    }\n</style>\n<table border=\"1\" class=\"dataframe\">\n  <thead>\n    <tr style=\"text-align: right;\">\n      <th></th>\n      <th>cid</th>\n      <th>jid</th>\n      <th>optimized_geometry</th>\n      <th>self_consistent_field</th>\n      <th>zero_point_energy</th>\n      <th>thermal_correction_to_energy</th>\n      <th>thermal_correction_to_enthalpy</th>\n      <th>thermal_correction_to_gibbs_free_energy</th>\n      <th>homo</th>\n      <th>lumo</th>\n      <th>natural_population_analysis</th>\n      <th>coulomb_matrix</th>\n    </tr>\n  </thead>\n  <tbody>\n    <tr>\n      <th>count</th>\n      <td>10685</td>\n      <td>10685</td>\n      <td>10685</td>\n      <td>10685</td>\n      <td>10685</td>\n      <td>10685</td>\n      <td>10685</td>\n      <td>10685</td>\n      <td>10685</td>\n      <td>10685</td>\n      <td>10685</td>\n      <td>10685</td>\n    </tr>\n    <tr>\n      <th>unique</th>\n      <td>10685</td>\n      <td>10685</td>\n      <td>10685</td>\n      <td>10685</td>\n      <td>10501</td>\n      <td>10504</td>\n      <td>10487</td>\n      <td>10486</td>\n      <td>5948</td>\n      <td>7675</td>\n      <td>10685</td>\n      <td>10685</td>\n    </tr>\n    <tr>\n      <th>top</th>\n      <td>147145722</td>\n      <td>0</td>\n      <td>[[6, 7, 6, 6, 6, 8, 6, 6, 8, 6, 6, 6, 7, 6, 1,...</td>\n      <td>[[neutraal, -653.020533830], [Energie_neutraal...</td>\n      <td>0.249167</td>\n      <td>0.218039</td>\n      <td>0.219788</td>\n      <td>0.209998</td>\n      <td>-0.2166</td>\n      <td>-0.00812</td>\n      <td>[[-0.35224, -0.57247, -0.02819, -0.41619, -0.0...</td>\n      <td>[[36.8581051994, 28.7555620234, 14.6630834634,...</td>\n    </tr>\n    <tr>\n      <th>freq</th>\n      <td>1</td>\n      <td>1</td>\n      <td>1</td>\n      <td>1</td>\n      <td>3</td>\n      <td>2</td>\n      <td>2</td>\n      <td>3</td>\n      <td>7</td>\n      <td>6</td>\n      <td>1</td>\n      <td>1</td>\n    </tr>\n  </tbody>\n</table>\n</div>"
     },
     "metadata": {},
     "execution_count": 16
    }
   ],
   "source": [
    "data.describe()"
   ]
  }
 ]
}