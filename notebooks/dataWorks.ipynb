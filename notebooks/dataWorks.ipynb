{
 "metadata": {
  "language_info": {
   "codemirror_mode": {
    "name": "ipython",
    "version": 3
   },
   "file_extension": ".py",
   "mimetype": "text/x-python",
   "name": "python",
   "nbconvert_exporter": "python",
   "pygments_lexer": "ipython3",
   "version": "3.8.5-final"
  },
  "orig_nbformat": 2,
  "kernelspec": {
   "name": "python3",
   "display_name": "Python 3.8.5 64-bit ('Master Thesis': conda)",
   "metadata": {
    "interpreter": {
     "hash": "3c2600dbb85c8b27e6e50cf4efdfd636baef57dd544fb148253cb17e6ab0fd06"
    }
   }
  }
 },
 "nbformat": 4,
 "nbformat_minor": 2,
 "cells": [
  {
   "cell_type": "code",
   "execution_count": 33,
   "metadata": {},
   "outputs": [],
   "source": [
    "import pandas as pd"
   ]
  },
  {
   "cell_type": "code",
   "execution_count": 34,
   "metadata": {},
   "outputs": [],
   "source": [
    "data = pd.read_json(r'C:\\Users\\Michiel Jacobs\\Research\\Master Thesis\\Experimental-Reactivity-Prediction\\data\\CNOS.json')\n",
    "data = data.transpose()"
   ]
  },
  {
   "cell_type": "code",
   "execution_count": 26,
   "metadata": {},
   "outputs": [
    {
     "output_type": "execute_result",
     "data": {
      "text/plain": [
       "                 cid jid                                 optimized_geometry  \\\n",
       "130652087  130652087   0  [[6, 6, 6, 6, 16, 6, 7, 7, 7, 6, 1, 1, 1, 1, 1...   \n",
       "129668047  129668047   1  [[6, 6, 6, 6, 6, 6, 16, 8, 8, 6, 1, 1, 1, 1, 1...   \n",
       "140994819  140994819   2  [[6, 6, 6, 6, 6, 6, 6, 6, 8, 8, 1, 1, 1, 1, 1,...   \n",
       "21721211    21721211   3  [[6, 6, 6, 8, 8, 6, 6, 6, 6, 6, 1, 1, 1, 1, 1,...   \n",
       "90704336    90704336   4  [[6, 6, 6, 6, 6, 6, 8, 8, 6, 8, 1, 1, 1, 1, 1,...   \n",
       "\n",
       "                                       self_consistent_field  \\\n",
       "130652087  [[neutraal, -795.211507962], [Energie_neutraal...   \n",
       "129668047  [[neutraal, -823.780548704], [Energie_neutraal...   \n",
       "140994819  [[neutraal, -464.935484889], [Energie_neutraal...   \n",
       "21721211   [[neutraal, -463.762585110], [Energie_neutraal...   \n",
       "90704336   [[neutraal, -502.065353250], [Energie_neutraal...   \n",
       "\n",
       "          zero_point_energy thermal_correction_to_energy  \\\n",
       "130652087          0.127017                     0.136940   \n",
       "129668047          0.205459                     0.217854   \n",
       "140994819          0.232716                     0.245301   \n",
       "21721211           0.210067                     0.222170   \n",
       "90704336           0.233129                     0.245709   \n",
       "\n",
       "          thermal_correction_to_enthalpy  \\\n",
       "130652087                       0.137884   \n",
       "129668047                       0.218799   \n",
       "140994819                       0.246246   \n",
       "21721211                        0.223114   \n",
       "90704336                        0.246653   \n",
       "\n",
       "          thermal_correction_to_gibbs_free_energy      homo      lumo  \\\n",
       "130652087                                0.090077  -0.22415  -0.01373   \n",
       "129668047                                0.165386  -0.25689  -0.01182   \n",
       "140994819                                0.193153  -0.24078   0.01578   \n",
       "21721211                                 0.169649  -0.23918   0.01441   \n",
       "90704336                                 0.195038  -0.25245   0.06906   \n",
       "\n",
       "                                 natural_population_analysis  \\\n",
       "130652087  [[-0.23022, -0.01421, -0.47001, -0.48076, 0.24...   \n",
       "129668047  [[-0.57906, -0.37233, -0.41330, -0.14949, -0.2...   \n",
       "140994819  [[-0.57823, -0.39724, 0.09904, -0.20924, -0.18...   \n",
       "21721211   [[-0.56822, -0.46850, 0.81575, -0.59983, -0.58...   \n",
       "90704336   [[-0.57774, -0.40498, 0.12954, -0.28690, -0.59...   \n",
       "\n",
       "                                              coulomb_matrix  \n",
       "130652087  [[36.85810519942594, 29.83438572479021, 13.490...  \n",
       "129668047  [[36.85810519942594, 23.513136466152307, 13.95...  \n",
       "140994819  [[36.85810519942594, 23.512329780636605, 13.93...  \n",
       "21721211   [[36.85810519942594, 23.419116452892624, 14.27...  \n",
       "90704336   [[36.85810519942594, 23.512505106427113, 13.96...  "
      ],
      "text/html": "<div>\n<style scoped>\n    .dataframe tbody tr th:only-of-type {\n        vertical-align: middle;\n    }\n\n    .dataframe tbody tr th {\n        vertical-align: top;\n    }\n\n    .dataframe thead th {\n        text-align: right;\n    }\n</style>\n<table border=\"1\" class=\"dataframe\">\n  <thead>\n    <tr style=\"text-align: right;\">\n      <th></th>\n      <th>cid</th>\n      <th>jid</th>\n      <th>optimized_geometry</th>\n      <th>self_consistent_field</th>\n      <th>zero_point_energy</th>\n      <th>thermal_correction_to_energy</th>\n      <th>thermal_correction_to_enthalpy</th>\n      <th>thermal_correction_to_gibbs_free_energy</th>\n      <th>homo</th>\n      <th>lumo</th>\n      <th>natural_population_analysis</th>\n      <th>coulomb_matrix</th>\n    </tr>\n  </thead>\n  <tbody>\n    <tr>\n      <th>130652087</th>\n      <td>130652087</td>\n      <td>0</td>\n      <td>[[6, 6, 6, 6, 16, 6, 7, 7, 7, 6, 1, 1, 1, 1, 1...</td>\n      <td>[[neutraal, -795.211507962], [Energie_neutraal...</td>\n      <td>0.127017</td>\n      <td>0.136940</td>\n      <td>0.137884</td>\n      <td>0.090077</td>\n      <td>-0.22415</td>\n      <td>-0.01373</td>\n      <td>[[-0.23022, -0.01421, -0.47001, -0.48076, 0.24...</td>\n      <td>[[36.85810519942594, 29.83438572479021, 13.490...</td>\n    </tr>\n    <tr>\n      <th>129668047</th>\n      <td>129668047</td>\n      <td>1</td>\n      <td>[[6, 6, 6, 6, 6, 6, 16, 8, 8, 6, 1, 1, 1, 1, 1...</td>\n      <td>[[neutraal, -823.780548704], [Energie_neutraal...</td>\n      <td>0.205459</td>\n      <td>0.217854</td>\n      <td>0.218799</td>\n      <td>0.165386</td>\n      <td>-0.25689</td>\n      <td>-0.01182</td>\n      <td>[[-0.57906, -0.37233, -0.41330, -0.14949, -0.2...</td>\n      <td>[[36.85810519942594, 23.513136466152307, 13.95...</td>\n    </tr>\n    <tr>\n      <th>140994819</th>\n      <td>140994819</td>\n      <td>2</td>\n      <td>[[6, 6, 6, 6, 6, 6, 6, 6, 8, 8, 1, 1, 1, 1, 1,...</td>\n      <td>[[neutraal, -464.935484889], [Energie_neutraal...</td>\n      <td>0.232716</td>\n      <td>0.245301</td>\n      <td>0.246246</td>\n      <td>0.193153</td>\n      <td>-0.24078</td>\n      <td>0.01578</td>\n      <td>[[-0.57823, -0.39724, 0.09904, -0.20924, -0.18...</td>\n      <td>[[36.85810519942594, 23.512329780636605, 13.93...</td>\n    </tr>\n    <tr>\n      <th>21721211</th>\n      <td>21721211</td>\n      <td>3</td>\n      <td>[[6, 6, 6, 8, 8, 6, 6, 6, 6, 6, 1, 1, 1, 1, 1,...</td>\n      <td>[[neutraal, -463.762585110], [Energie_neutraal...</td>\n      <td>0.210067</td>\n      <td>0.222170</td>\n      <td>0.223114</td>\n      <td>0.169649</td>\n      <td>-0.23918</td>\n      <td>0.01441</td>\n      <td>[[-0.56822, -0.46850, 0.81575, -0.59983, -0.58...</td>\n      <td>[[36.85810519942594, 23.419116452892624, 14.27...</td>\n    </tr>\n    <tr>\n      <th>90704336</th>\n      <td>90704336</td>\n      <td>4</td>\n      <td>[[6, 6, 6, 6, 6, 6, 8, 8, 6, 8, 1, 1, 1, 1, 1,...</td>\n      <td>[[neutraal, -502.065353250], [Energie_neutraal...</td>\n      <td>0.233129</td>\n      <td>0.245709</td>\n      <td>0.246653</td>\n      <td>0.195038</td>\n      <td>-0.25245</td>\n      <td>0.06906</td>\n      <td>[[-0.57774, -0.40498, 0.12954, -0.28690, -0.59...</td>\n      <td>[[36.85810519942594, 23.512505106427113, 13.96...</td>\n    </tr>\n  </tbody>\n</table>\n</div>"
     },
     "metadata": {},
     "execution_count": 26
    }
   ],
   "source": [
    "data.head()"
   ]
  },
  {
   "cell_type": "code",
   "execution_count": 32,
   "metadata": {},
   "outputs": [
    {
     "output_type": "execute_result",
     "data": {
      "text/plain": [
       "cid                                        999\n",
       "jid                                        999\n",
       "optimized_geometry                         999\n",
       "self_consistent_field                      999\n",
       "zero_point_energy                          999\n",
       "thermal_correction_to_energy               999\n",
       "thermal_correction_to_enthalpy             999\n",
       "thermal_correction_to_gibbs_free_energy    999\n",
       "homo                                       999\n",
       "lumo                                       999\n",
       "natural_population_analysis                999\n",
       "coulomb_matrix                             999\n",
       "dtype: int64"
      ]
     },
     "metadata": {},
     "execution_count": 32
    }
   ],
   "source": [
    "data.iloc[0:999,:].count()"
   ]
  },
  {
   "cell_type": "code",
   "execution_count": 35,
   "metadata": {},
   "outputs": [],
   "source": [
    "dataframes = []\n",
    "for i in range(11):\n",
    "    startline = i*1000\n",
    "    endline = ((i+1)*1000)\n",
    "    dataframes.append(data.iloc[startline:endline,:])"
   ]
  },
  {
   "cell_type": "code",
   "execution_count": 38,
   "metadata": {},
   "outputs": [
    {
     "output_type": "execute_result",
     "data": {
      "text/plain": [
       "             cid   jid                                 optimized_geometry  \\\n",
       "count       1000  1000                                               1000   \n",
       "unique      1000  1000                                               1000   \n",
       "top     20393662  2048  [[6, 6, 6, 6, 7, 6, 16, 6, 7, 7, 8, 1, 1, 1, 1...   \n",
       "freq           1     1                                                  1   \n",
       "\n",
       "                                    self_consistent_field zero_point_energy  \\\n",
       "count                                                1000              1000   \n",
       "unique                                               1000              1000   \n",
       "top     [[neutraal, -871.700070451], [Energie_neutraal...          0.167355   \n",
       "freq                                                    1                 1   \n",
       "\n",
       "       thermal_correction_to_energy thermal_correction_to_enthalpy  \\\n",
       "count                          1000                           1000   \n",
       "unique                          998                            998   \n",
       "top                        0.172507                       0.173451   \n",
       "freq                              2                              2   \n",
       "\n",
       "       thermal_correction_to_gibbs_free_energy      homo     lumo  \\\n",
       "count                                     1000      1000     1000   \n",
       "unique                                     998       950      973   \n",
       "top                                   0.227538  -0.22875  0.01961   \n",
       "freq                                         2         3        2   \n",
       "\n",
       "                              natural_population_analysis  \\\n",
       "count                                                1000   \n",
       "unique                                               1000   \n",
       "top     [[-0.59585, 0.09538, -0.24581, -0.03149, -0.44...   \n",
       "freq                                                    1   \n",
       "\n",
       "                                           coulomb_matrix  \n",
       "count                                                1000  \n",
       "unique                                               1000  \n",
       "top     [[36.85810519942594, 23.515294166559954, 14.17...  \n",
       "freq                                                    1  "
      ],
      "text/html": "<div>\n<style scoped>\n    .dataframe tbody tr th:only-of-type {\n        vertical-align: middle;\n    }\n\n    .dataframe tbody tr th {\n        vertical-align: top;\n    }\n\n    .dataframe thead th {\n        text-align: right;\n    }\n</style>\n<table border=\"1\" class=\"dataframe\">\n  <thead>\n    <tr style=\"text-align: right;\">\n      <th></th>\n      <th>cid</th>\n      <th>jid</th>\n      <th>optimized_geometry</th>\n      <th>self_consistent_field</th>\n      <th>zero_point_energy</th>\n      <th>thermal_correction_to_energy</th>\n      <th>thermal_correction_to_enthalpy</th>\n      <th>thermal_correction_to_gibbs_free_energy</th>\n      <th>homo</th>\n      <th>lumo</th>\n      <th>natural_population_analysis</th>\n      <th>coulomb_matrix</th>\n    </tr>\n  </thead>\n  <tbody>\n    <tr>\n      <th>count</th>\n      <td>1000</td>\n      <td>1000</td>\n      <td>1000</td>\n      <td>1000</td>\n      <td>1000</td>\n      <td>1000</td>\n      <td>1000</td>\n      <td>1000</td>\n      <td>1000</td>\n      <td>1000</td>\n      <td>1000</td>\n      <td>1000</td>\n    </tr>\n    <tr>\n      <th>unique</th>\n      <td>1000</td>\n      <td>1000</td>\n      <td>1000</td>\n      <td>1000</td>\n      <td>1000</td>\n      <td>998</td>\n      <td>998</td>\n      <td>998</td>\n      <td>950</td>\n      <td>973</td>\n      <td>1000</td>\n      <td>1000</td>\n    </tr>\n    <tr>\n      <th>top</th>\n      <td>20393662</td>\n      <td>2048</td>\n      <td>[[6, 6, 6, 6, 7, 6, 16, 6, 7, 7, 8, 1, 1, 1, 1...</td>\n      <td>[[neutraal, -871.700070451], [Energie_neutraal...</td>\n      <td>0.167355</td>\n      <td>0.172507</td>\n      <td>0.173451</td>\n      <td>0.227538</td>\n      <td>-0.22875</td>\n      <td>0.01961</td>\n      <td>[[-0.59585, 0.09538, -0.24581, -0.03149, -0.44...</td>\n      <td>[[36.85810519942594, 23.515294166559954, 14.17...</td>\n    </tr>\n    <tr>\n      <th>freq</th>\n      <td>1</td>\n      <td>1</td>\n      <td>1</td>\n      <td>1</td>\n      <td>1</td>\n      <td>2</td>\n      <td>2</td>\n      <td>2</td>\n      <td>3</td>\n      <td>2</td>\n      <td>1</td>\n      <td>1</td>\n    </tr>\n  </tbody>\n</table>\n</div>"
     },
     "metadata": {},
     "execution_count": 38
    }
   ],
   "source": [
    "dataframes[1].describe()"
   ]
  },
  {
   "cell_type": "code",
   "execution_count": 39,
   "metadata": {},
   "outputs": [],
   "source": [
    "import os\n",
    "PATH = r'C:\\Users\\Michiel Jacobs\\Research\\Master Thesis\\Experimental-Reactivity-Prediction\\data'\n",
    "for i, df in enumerate(dataframes):\n",
    "    df.to_json(os.path.join(PATH, 'CNOS_{}.json'.format(i)), orient='index', indent=2)"
   ]
  },
  {
   "cell_type": "code",
   "execution_count": 40,
   "metadata": {},
   "outputs": [],
   "source": [
    "import os\n",
    "import pandas as pd\n",
    "\n",
    "#PATH = os.path.dirname(os.path.abspath(__file__))\n",
    "PATH = r'C:\\Users\\Michiel Jacobs\\Research\\Master Thesis\\Experimental-Reactivity-Prediction\\notebooks'\n",
    "PATH = os.path.join(PATH, os.pardir, 'data')\n",
    "dataframes = []\n",
    "for file in os.listdir(PATH):\n",
    "    if file.endswith(\".json\"):\n",
    "        dataframes.append(pd.read_json(os.path.join(PATH, file)))"
   ]
  },
  {
   "cell_type": "code",
   "execution_count": 41,
   "metadata": {},
   "outputs": [
    {
     "output_type": "execute_result",
     "data": {
      "text/plain": [
       "                 cid jid                                 optimized_geometry  \\\n",
       "130652087  130652087   0  [[6, 6, 6, 6, 16, 6, 7, 7, 7, 6, 1, 1, 1, 1, 1...   \n",
       "129668047  129668047   1  [[6, 6, 6, 6, 6, 6, 16, 8, 8, 6, 1, 1, 1, 1, 1...   \n",
       "140994819  140994819   2  [[6, 6, 6, 6, 6, 6, 6, 6, 8, 8, 1, 1, 1, 1, 1,...   \n",
       "21721211    21721211   3  [[6, 6, 6, 8, 8, 6, 6, 6, 6, 6, 1, 1, 1, 1, 1,...   \n",
       "90704336    90704336   4  [[6, 6, 6, 6, 6, 6, 8, 8, 6, 8, 1, 1, 1, 1, 1,...   \n",
       "\n",
       "                                       self_consistent_field  \\\n",
       "130652087  [[neutraal, -795.211507962], [Energie_neutraal...   \n",
       "129668047  [[neutraal, -823.780548704], [Energie_neutraal...   \n",
       "140994819  [[neutraal, -464.935484889], [Energie_neutraal...   \n",
       "21721211   [[neutraal, -463.762585110], [Energie_neutraal...   \n",
       "90704336   [[neutraal, -502.065353250], [Energie_neutraal...   \n",
       "\n",
       "          zero_point_energy thermal_correction_to_energy  \\\n",
       "130652087          0.127017                     0.136940   \n",
       "129668047          0.205459                     0.217854   \n",
       "140994819          0.232716                     0.245301   \n",
       "21721211           0.210067                     0.222170   \n",
       "90704336           0.233129                     0.245709   \n",
       "\n",
       "          thermal_correction_to_enthalpy  \\\n",
       "130652087                       0.137884   \n",
       "129668047                       0.218799   \n",
       "140994819                       0.246246   \n",
       "21721211                        0.223114   \n",
       "90704336                        0.246653   \n",
       "\n",
       "          thermal_correction_to_gibbs_free_energy      homo      lumo  \\\n",
       "130652087                                0.090077  -0.22415  -0.01373   \n",
       "129668047                                0.165386  -0.25689  -0.01182   \n",
       "140994819                                0.193153  -0.24078   0.01578   \n",
       "21721211                                 0.169649  -0.23918   0.01441   \n",
       "90704336                                 0.195038  -0.25245   0.06906   \n",
       "\n",
       "                                 natural_population_analysis  \\\n",
       "130652087  [[-0.23022, -0.01421, -0.47001, -0.48076, 0.24...   \n",
       "129668047  [[-0.57906, -0.37233, -0.41330, -0.14949, -0.2...   \n",
       "140994819  [[-0.57823, -0.39724, 0.09904, -0.20924, -0.18...   \n",
       "21721211   [[-0.56822, -0.46850, 0.81575, -0.59983, -0.58...   \n",
       "90704336   [[-0.57774, -0.40498, 0.12954, -0.28690, -0.59...   \n",
       "\n",
       "                                              coulomb_matrix  \n",
       "130652087  [[36.8581051994, 29.8343857248, 13.4903033773,...  \n",
       "129668047  [[36.8581051994, 23.5131364662, 13.9599108795,...  \n",
       "140994819  [[36.8581051994, 23.5123297806, 13.9300213486,...  \n",
       "21721211   [[36.8581051994, 23.4191164529, 14.2747354076,...  \n",
       "90704336   [[36.8581051994, 23.5125051064, 13.969815003, ...  "
      ],
      "text/html": "<div>\n<style scoped>\n    .dataframe tbody tr th:only-of-type {\n        vertical-align: middle;\n    }\n\n    .dataframe tbody tr th {\n        vertical-align: top;\n    }\n\n    .dataframe thead th {\n        text-align: right;\n    }\n</style>\n<table border=\"1\" class=\"dataframe\">\n  <thead>\n    <tr style=\"text-align: right;\">\n      <th></th>\n      <th>cid</th>\n      <th>jid</th>\n      <th>optimized_geometry</th>\n      <th>self_consistent_field</th>\n      <th>zero_point_energy</th>\n      <th>thermal_correction_to_energy</th>\n      <th>thermal_correction_to_enthalpy</th>\n      <th>thermal_correction_to_gibbs_free_energy</th>\n      <th>homo</th>\n      <th>lumo</th>\n      <th>natural_population_analysis</th>\n      <th>coulomb_matrix</th>\n    </tr>\n  </thead>\n  <tbody>\n    <tr>\n      <th>130652087</th>\n      <td>130652087</td>\n      <td>0</td>\n      <td>[[6, 6, 6, 6, 16, 6, 7, 7, 7, 6, 1, 1, 1, 1, 1...</td>\n      <td>[[neutraal, -795.211507962], [Energie_neutraal...</td>\n      <td>0.127017</td>\n      <td>0.136940</td>\n      <td>0.137884</td>\n      <td>0.090077</td>\n      <td>-0.22415</td>\n      <td>-0.01373</td>\n      <td>[[-0.23022, -0.01421, -0.47001, -0.48076, 0.24...</td>\n      <td>[[36.8581051994, 29.8343857248, 13.4903033773,...</td>\n    </tr>\n    <tr>\n      <th>129668047</th>\n      <td>129668047</td>\n      <td>1</td>\n      <td>[[6, 6, 6, 6, 6, 6, 16, 8, 8, 6, 1, 1, 1, 1, 1...</td>\n      <td>[[neutraal, -823.780548704], [Energie_neutraal...</td>\n      <td>0.205459</td>\n      <td>0.217854</td>\n      <td>0.218799</td>\n      <td>0.165386</td>\n      <td>-0.25689</td>\n      <td>-0.01182</td>\n      <td>[[-0.57906, -0.37233, -0.41330, -0.14949, -0.2...</td>\n      <td>[[36.8581051994, 23.5131364662, 13.9599108795,...</td>\n    </tr>\n    <tr>\n      <th>140994819</th>\n      <td>140994819</td>\n      <td>2</td>\n      <td>[[6, 6, 6, 6, 6, 6, 6, 6, 8, 8, 1, 1, 1, 1, 1,...</td>\n      <td>[[neutraal, -464.935484889], [Energie_neutraal...</td>\n      <td>0.232716</td>\n      <td>0.245301</td>\n      <td>0.246246</td>\n      <td>0.193153</td>\n      <td>-0.24078</td>\n      <td>0.01578</td>\n      <td>[[-0.57823, -0.39724, 0.09904, -0.20924, -0.18...</td>\n      <td>[[36.8581051994, 23.5123297806, 13.9300213486,...</td>\n    </tr>\n    <tr>\n      <th>21721211</th>\n      <td>21721211</td>\n      <td>3</td>\n      <td>[[6, 6, 6, 8, 8, 6, 6, 6, 6, 6, 1, 1, 1, 1, 1,...</td>\n      <td>[[neutraal, -463.762585110], [Energie_neutraal...</td>\n      <td>0.210067</td>\n      <td>0.222170</td>\n      <td>0.223114</td>\n      <td>0.169649</td>\n      <td>-0.23918</td>\n      <td>0.01441</td>\n      <td>[[-0.56822, -0.46850, 0.81575, -0.59983, -0.58...</td>\n      <td>[[36.8581051994, 23.4191164529, 14.2747354076,...</td>\n    </tr>\n    <tr>\n      <th>90704336</th>\n      <td>90704336</td>\n      <td>4</td>\n      <td>[[6, 6, 6, 6, 6, 6, 8, 8, 6, 8, 1, 1, 1, 1, 1,...</td>\n      <td>[[neutraal, -502.065353250], [Energie_neutraal...</td>\n      <td>0.233129</td>\n      <td>0.245709</td>\n      <td>0.246653</td>\n      <td>0.195038</td>\n      <td>-0.25245</td>\n      <td>0.06906</td>\n      <td>[[-0.57774, -0.40498, 0.12954, -0.28690, -0.59...</td>\n      <td>[[36.8581051994, 23.5125051064, 13.969815003, ...</td>\n    </tr>\n  </tbody>\n</table>\n</div>"
     },
     "metadata": {},
     "execution_count": 41
    }
   ],
   "source": [
    "transp = []\n",
    "for df in dataframes:\n",
    "    transp.append(df.transpose())\n",
    "\n",
    "transp[0].head()"
   ]
  },
  {
   "cell_type": "code",
   "execution_count": 43,
   "metadata": {},
   "outputs": [
    {
     "output_type": "execute_result",
     "data": {
      "text/plain": [
       "              cid   jid                                 optimized_geometry  \\\n",
       "count        1000  1000                                               1000   \n",
       "unique       1000  1000                                               1000   \n",
       "top     144536832     0  [[6, 6, 8, 6, 6, 7, 6, 6, 8, 8, 1, 1, 1, 1, 1,...   \n",
       "freq            1     1                                                  1   \n",
       "\n",
       "                                    self_consistent_field zero_point_energy  \\\n",
       "count                                                1000              1000   \n",
       "unique                                               1000               996   \n",
       "top     [[neutraal, -515.687994908], [Energie_neutraal...          0.140037   \n",
       "freq                                                    1                 2   \n",
       "\n",
       "       thermal_correction_to_energy thermal_correction_to_enthalpy  \\\n",
       "count                          1000                           1000   \n",
       "unique                          996                            994   \n",
       "top                         0.15052                       0.247426   \n",
       "freq                              2                              2   \n",
       "\n",
       "       thermal_correction_to_gibbs_free_energy      homo     lumo  \\\n",
       "count                                     1000      1000     1000   \n",
       "unique                                     996       941      978   \n",
       "top                                   0.165466  -0.20466  -0.0291   \n",
       "freq                                         2         4        2   \n",
       "\n",
       "                              natural_population_analysis  \\\n",
       "count                                                1000   \n",
       "unique                                               1000   \n",
       "top     [[-0.61204, -0.02406, -0.59419, 0.13074, -0.17...   \n",
       "freq                                                    1   \n",
       "\n",
       "                                           coulomb_matrix  \n",
       "count                                                1000  \n",
       "unique                                               1000  \n",
       "top     [[36.8581051994, 23.5733747264, 19.2072581422,...  \n",
       "freq                                                    1  "
      ],
      "text/html": "<div>\n<style scoped>\n    .dataframe tbody tr th:only-of-type {\n        vertical-align: middle;\n    }\n\n    .dataframe tbody tr th {\n        vertical-align: top;\n    }\n\n    .dataframe thead th {\n        text-align: right;\n    }\n</style>\n<table border=\"1\" class=\"dataframe\">\n  <thead>\n    <tr style=\"text-align: right;\">\n      <th></th>\n      <th>cid</th>\n      <th>jid</th>\n      <th>optimized_geometry</th>\n      <th>self_consistent_field</th>\n      <th>zero_point_energy</th>\n      <th>thermal_correction_to_energy</th>\n      <th>thermal_correction_to_enthalpy</th>\n      <th>thermal_correction_to_gibbs_free_energy</th>\n      <th>homo</th>\n      <th>lumo</th>\n      <th>natural_population_analysis</th>\n      <th>coulomb_matrix</th>\n    </tr>\n  </thead>\n  <tbody>\n    <tr>\n      <th>count</th>\n      <td>1000</td>\n      <td>1000</td>\n      <td>1000</td>\n      <td>1000</td>\n      <td>1000</td>\n      <td>1000</td>\n      <td>1000</td>\n      <td>1000</td>\n      <td>1000</td>\n      <td>1000</td>\n      <td>1000</td>\n      <td>1000</td>\n    </tr>\n    <tr>\n      <th>unique</th>\n      <td>1000</td>\n      <td>1000</td>\n      <td>1000</td>\n      <td>1000</td>\n      <td>996</td>\n      <td>996</td>\n      <td>994</td>\n      <td>996</td>\n      <td>941</td>\n      <td>978</td>\n      <td>1000</td>\n      <td>1000</td>\n    </tr>\n    <tr>\n      <th>top</th>\n      <td>144536832</td>\n      <td>0</td>\n      <td>[[6, 6, 8, 6, 6, 7, 6, 6, 8, 8, 1, 1, 1, 1, 1,...</td>\n      <td>[[neutraal, -515.687994908], [Energie_neutraal...</td>\n      <td>0.140037</td>\n      <td>0.15052</td>\n      <td>0.247426</td>\n      <td>0.165466</td>\n      <td>-0.20466</td>\n      <td>-0.0291</td>\n      <td>[[-0.61204, -0.02406, -0.59419, 0.13074, -0.17...</td>\n      <td>[[36.8581051994, 23.5733747264, 19.2072581422,...</td>\n    </tr>\n    <tr>\n      <th>freq</th>\n      <td>1</td>\n      <td>1</td>\n      <td>1</td>\n      <td>1</td>\n      <td>2</td>\n      <td>2</td>\n      <td>2</td>\n      <td>2</td>\n      <td>4</td>\n      <td>2</td>\n      <td>1</td>\n      <td>1</td>\n    </tr>\n  </tbody>\n</table>\n</div>"
     },
     "metadata": {},
     "execution_count": 43
    }
   ],
   "source": [
    "transp[0].describe()"
   ]
  },
  {
   "cell_type": "code",
   "execution_count": 44,
   "metadata": {},
   "outputs": [],
   "source": [
    "data = pd.concat(transp)"
   ]
  },
  {
   "cell_type": "code",
   "execution_count": 45,
   "metadata": {},
   "outputs": [
    {
     "output_type": "execute_result",
     "data": {
      "text/plain": [
       "              cid    jid                                 optimized_geometry  \\\n",
       "count       10695  10695                                              10695   \n",
       "unique      10695  10695                                              10695   \n",
       "top     147145722      0  [[6, 6, 6, 6, 6, 6, 6, 6, 7, 7, 6, 7, 7, 7, 1,...   \n",
       "freq            1      1                                                  1   \n",
       "\n",
       "                                    self_consistent_field zero_point_energy  \\\n",
       "count                                               10695             10695   \n",
       "unique                                              10695             10511   \n",
       "top     [[neutraal, -626.928984526], [Energie_neutraal...          0.249167   \n",
       "freq                                                    1                 3   \n",
       "\n",
       "       thermal_correction_to_energy thermal_correction_to_enthalpy  \\\n",
       "count                         10695                          10695   \n",
       "unique                        10513                          10496   \n",
       "top                        0.309168                         0.1769   \n",
       "freq                              2                              2   \n",
       "\n",
       "       thermal_correction_to_gibbs_free_energy      homo      lumo  \\\n",
       "count                                    10695     10695     10695   \n",
       "unique                                   10496      5949      7679   \n",
       "top                                   0.283359  -0.22928  -0.00812   \n",
       "freq                                         3         7         6   \n",
       "\n",
       "                              natural_population_analysis  \\\n",
       "count                                               10695   \n",
       "unique                                              10695   \n",
       "top     [[-0.57201, -0.12385, -0.56496, -0.20722, -0.3...   \n",
       "freq                                                    1   \n",
       "\n",
       "                                           coulomb_matrix  \n",
       "count                                               10695  \n",
       "unique                                              10695  \n",
       "top     [[36.8581051994, 23.3288629446, 14.2841932068,...  \n",
       "freq                                                    1  "
      ],
      "text/html": "<div>\n<style scoped>\n    .dataframe tbody tr th:only-of-type {\n        vertical-align: middle;\n    }\n\n    .dataframe tbody tr th {\n        vertical-align: top;\n    }\n\n    .dataframe thead th {\n        text-align: right;\n    }\n</style>\n<table border=\"1\" class=\"dataframe\">\n  <thead>\n    <tr style=\"text-align: right;\">\n      <th></th>\n      <th>cid</th>\n      <th>jid</th>\n      <th>optimized_geometry</th>\n      <th>self_consistent_field</th>\n      <th>zero_point_energy</th>\n      <th>thermal_correction_to_energy</th>\n      <th>thermal_correction_to_enthalpy</th>\n      <th>thermal_correction_to_gibbs_free_energy</th>\n      <th>homo</th>\n      <th>lumo</th>\n      <th>natural_population_analysis</th>\n      <th>coulomb_matrix</th>\n    </tr>\n  </thead>\n  <tbody>\n    <tr>\n      <th>count</th>\n      <td>10695</td>\n      <td>10695</td>\n      <td>10695</td>\n      <td>10695</td>\n      <td>10695</td>\n      <td>10695</td>\n      <td>10695</td>\n      <td>10695</td>\n      <td>10695</td>\n      <td>10695</td>\n      <td>10695</td>\n      <td>10695</td>\n    </tr>\n    <tr>\n      <th>unique</th>\n      <td>10695</td>\n      <td>10695</td>\n      <td>10695</td>\n      <td>10695</td>\n      <td>10511</td>\n      <td>10513</td>\n      <td>10496</td>\n      <td>10496</td>\n      <td>5949</td>\n      <td>7679</td>\n      <td>10695</td>\n      <td>10695</td>\n    </tr>\n    <tr>\n      <th>top</th>\n      <td>147145722</td>\n      <td>0</td>\n      <td>[[6, 6, 6, 6, 6, 6, 6, 6, 7, 7, 6, 7, 7, 7, 1,...</td>\n      <td>[[neutraal, -626.928984526], [Energie_neutraal...</td>\n      <td>0.249167</td>\n      <td>0.309168</td>\n      <td>0.1769</td>\n      <td>0.283359</td>\n      <td>-0.22928</td>\n      <td>-0.00812</td>\n      <td>[[-0.57201, -0.12385, -0.56496, -0.20722, -0.3...</td>\n      <td>[[36.8581051994, 23.3288629446, 14.2841932068,...</td>\n    </tr>\n    <tr>\n      <th>freq</th>\n      <td>1</td>\n      <td>1</td>\n      <td>1</td>\n      <td>1</td>\n      <td>3</td>\n      <td>2</td>\n      <td>2</td>\n      <td>3</td>\n      <td>7</td>\n      <td>6</td>\n      <td>1</td>\n      <td>1</td>\n    </tr>\n  </tbody>\n</table>\n</div>"
     },
     "metadata": {},
     "execution_count": 45
    }
   ],
   "source": [
    "data.describe()"
   ]
  }
 ]
}