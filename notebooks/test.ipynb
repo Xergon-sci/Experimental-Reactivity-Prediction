{
 "metadata": {
  "language_info": {
   "codemirror_mode": {
    "name": "ipython",
    "version": 3
   },
   "file_extension": ".py",
   "mimetype": "text/x-python",
   "name": "python",
   "nbconvert_exporter": "python",
   "pygments_lexer": "ipython3",
   "version": "3.8.5-final"
  },
  "orig_nbformat": 2,
  "kernelspec": {
   "name": "python3",
   "display_name": "Python 3.8.5 64-bit ('Master Thesis': conda)",
   "metadata": {
    "interpreter": {
     "hash": "3c2600dbb85c8b27e6e50cf4efdfd636baef57dd544fb148253cb17e6ab0fd06"
    }
   }
  }
 },
 "nbformat": 4,
 "nbformat_minor": 2,
 "cells": [
  {
   "cell_type": "code",
   "execution_count": 4,
   "metadata": {},
   "outputs": [],
   "source": [
    "import pandas as pd\n",
    "import numpy as np"
   ]
  },
  {
   "cell_type": "code",
   "execution_count": 8,
   "metadata": {},
   "outputs": [],
   "source": [
    "settings = pd.DataFrame(\n",
    "    np.array([[(6,62,62,1), 128, (1,3,3), (2,2,2), 64, 0.2]], dtype=object),\n",
    "    index=['Layer 1'],\n",
    "    columns=['Input shape', 'Batch size', 'kernel size', 'pool size', 'filters', 'dropout'])"
   ]
  }
 ]
}